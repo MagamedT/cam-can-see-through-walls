{
  "nbformat": 4,
  "nbformat_minor": 0,
  "metadata": {
    "colab": {
      "provenance": [],
      "gpuType": "V100"
    },
    "kernelspec": {
      "name": "python3",
      "display_name": "Python 3"
    },
    "language_info": {
      "name": "python"
    },
    "accelerator": "GPU"
  },
  "cells": [
    {
      "cell_type": "code",
      "execution_count": 1,
      "metadata": {
        "colab": {
          "base_uri": "https://localhost:8080/"
        },
        "cellView": "form",
        "id": "11AHb78cFwxn",
        "outputId": "a335e19b-41fc-4eb0-c853-d4241e3ff17e"
      },
      "outputs": [
        {
          "output_type": "stream",
          "name": "stdout",
          "text": [
            "\u001b[2K     \u001b[90m━━━━━━━━━━━━━━━━━━━━━━━━━━━━━━━━━━━━━━━━\u001b[0m \u001b[32m7.8/7.8 MB\u001b[0m \u001b[31m23.5 MB/s\u001b[0m eta \u001b[36m0:00:00\u001b[0m\n",
            "\u001b[?25h  Installing build dependencies ... \u001b[?25l\u001b[?25hdone\n",
            "  Getting requirements to build wheel ... \u001b[?25l\u001b[?25hdone\n",
            "  Preparing metadata (pyproject.toml) ... \u001b[?25l\u001b[?25hdone\n",
            "\u001b[2K     \u001b[90m━━━━━━━━━━━━━━━━━━━━━━━━━━━━━━━━━━━━━━━━\u001b[0m \u001b[32m23.7/23.7 MB\u001b[0m \u001b[31m33.2 MB/s\u001b[0m eta \u001b[36m0:00:00\u001b[0m\n",
            "\u001b[2K     \u001b[90m━━━━━━━━━━━━━━━━━━━━━━━━━━━━━━━━━━━━━━━━\u001b[0m \u001b[32m823.6/823.6 kB\u001b[0m \u001b[31m17.4 MB/s\u001b[0m eta \u001b[36m0:00:00\u001b[0m\n",
            "\u001b[2K     \u001b[90m━━━━━━━━━━━━━━━━━━━━━━━━━━━━━━━━━━━━━━━━\u001b[0m \u001b[32m14.1/14.1 MB\u001b[0m \u001b[31m43.3 MB/s\u001b[0m eta \u001b[36m0:00:00\u001b[0m\n",
            "\u001b[2K     \u001b[90m━━━━━━━━━━━━━━━━━━━━━━━━━━━━━━━━━━━━━━━━\u001b[0m \u001b[32m731.7/731.7 MB\u001b[0m \u001b[31m2.3 MB/s\u001b[0m eta \u001b[36m0:00:00\u001b[0m\n",
            "\u001b[2K     \u001b[90m━━━━━━━━━━━━━━━━━━━━━━━━━━━━━━━━━━━━━━━━\u001b[0m \u001b[32m410.6/410.6 MB\u001b[0m \u001b[31m1.8 MB/s\u001b[0m eta \u001b[36m0:00:00\u001b[0m\n",
            "\u001b[2K     \u001b[90m━━━━━━━━━━━━━━━━━━━━━━━━━━━━━━━━━━━━━━━━\u001b[0m \u001b[32m121.6/121.6 MB\u001b[0m \u001b[31m8.1 MB/s\u001b[0m eta \u001b[36m0:00:00\u001b[0m\n",
            "\u001b[2K     \u001b[90m━━━━━━━━━━━━━━━━━━━━━━━━━━━━━━━━━━━━━━━━\u001b[0m \u001b[32m56.5/56.5 MB\u001b[0m \u001b[31m11.7 MB/s\u001b[0m eta \u001b[36m0:00:00\u001b[0m\n",
            "\u001b[2K     \u001b[90m━━━━━━━━━━━━━━━━━━━━━━━━━━━━━━━━━━━━━━━━\u001b[0m \u001b[32m124.2/124.2 MB\u001b[0m \u001b[31m8.5 MB/s\u001b[0m eta \u001b[36m0:00:00\u001b[0m\n",
            "\u001b[2K     \u001b[90m━━━━━━━━━━━━━━━━━━━━━━━━━━━━━━━━━━━━━━━━\u001b[0m \u001b[32m196.0/196.0 MB\u001b[0m \u001b[31m6.8 MB/s\u001b[0m eta \u001b[36m0:00:00\u001b[0m\n",
            "\u001b[2K     \u001b[90m━━━━━━━━━━━━━━━━━━━━━━━━━━━━━━━━━━━━━━━━\u001b[0m \u001b[32m166.0/166.0 MB\u001b[0m \u001b[31m6.4 MB/s\u001b[0m eta \u001b[36m0:00:00\u001b[0m\n",
            "\u001b[2K     \u001b[90m━━━━━━━━━━━━━━━━━━━━━━━━━━━━━━━━━━━━━━━━\u001b[0m \u001b[32m99.1/99.1 kB\u001b[0m \u001b[31m14.2 MB/s\u001b[0m eta \u001b[36m0:00:00\u001b[0m\n",
            "\u001b[2K     \u001b[90m━━━━━━━━━━━━━━━━━━━━━━━━━━━━━━━━━━━━━━━━\u001b[0m \u001b[32m21.1/21.1 MB\u001b[0m \u001b[31m78.5 MB/s\u001b[0m eta \u001b[36m0:00:00\u001b[0m\n",
            "\u001b[?25h  Building wheel for grad-cam (pyproject.toml) ... \u001b[?25l\u001b[?25hdone\n"
          ]
        }
      ],
      "source": [
        "#@title download requirements\n",
        "! pip install grad-cam --quiet"
      ]
    },
    {
      "cell_type": "code",
      "source": [
        "#@title Imports of librairies\n",
        "import os\n",
        "\n",
        "import torch\n",
        "import torch.nn as nn\n",
        "import torch.nn.functional as F\n",
        "\n",
        "\n",
        "from torch.utils.data import Dataset\n",
        "from torchvision import datasets\n",
        "import torchvision\n",
        "import torchvision.transforms as transforms\n",
        "from PIL import Image\n",
        "\n",
        "from pytorch_grad_cam import GradCAM, HiResCAM, ScoreCAM, GradCAMPlusPlus, AblationCAM, XGradCAM, EigenCAM, LayerCAM\n",
        "from pytorch_grad_cam.utils.model_targets import ClassifierOutputTarget\n",
        "from pytorch_grad_cam.utils.image import show_cam_on_image\n",
        "\n",
        "import matplotlib.pyplot as plt\n",
        "from mpl_toolkits.axes_grid1.inset_locator import inset_axes\n",
        "\n",
        "import numpy as np\n",
        "from numpy import linalg as LA\n",
        "import math\n",
        "\n",
        "import random\n",
        "\n",
        "import cv2\n",
        "import time\n",
        "import urllib\n",
        "import pickle\n",
        "import itertools\n",
        "from urllib.request import urlopen\n",
        "\n",
        "from tqdm.notebook import tqdm\n",
        "\n",
        "import matplotlib.animation as animation\n",
        "\n",
        "from IPython.display import HTML\n",
        "from base64 import b64encode\n",
        "\n",
        "torch.manual_seed(3)\n",
        "np.random.seed(3)\n",
        "\n",
        "device = torch.device(\"cuda\" if torch.cuda.is_available() else \"cpu\")"
      ],
      "metadata": {
        "cellView": "form",
        "id": "DkhfLwhUNBCQ"
      },
      "execution_count": 2,
      "outputs": []
    },
    {
      "cell_type": "code",
      "source": [
        "#@title data loading and processing\n",
        "\n",
        "batch_size = 128 #@param {type:\"number\"}\n",
        "\n",
        "# get data\n",
        "training_data = datasets.MNIST(\n",
        "    root=\"data\",\n",
        "    train=True,\n",
        "    download=True,\n",
        "    transform=transforms.ToTensor()\n",
        ")\n",
        "\n",
        "test_data = datasets.MNIST(\n",
        "    root=\"data\",\n",
        "    train=False,\n",
        "    download=True,\n",
        "    transform=transforms.ToTensor()\n",
        ")\n",
        "\n",
        "# create loaders\n",
        "trainset, validset = torch.utils.data.random_split(training_data, [50_000, 10_000])\n",
        "trainloader = torch.utils.data.DataLoader(trainset, batch_size=batch_size, shuffle=True)\n",
        "testloader = torch.utils.data.DataLoader(test_data, batch_size=batch_size, shuffle=False)\n",
        "validloader = torch.utils.data.DataLoader(validset, batch_size=batch_size, shuffle=False)\n",
        "\n",
        "# get one batch\n",
        "IM, LAB = next(iter(testloader))"
      ],
      "metadata": {
        "colab": {
          "base_uri": "https://localhost:8080/"
        },
        "cellView": "form",
        "id": "0F1v2pubNNEW",
        "outputId": "02629bba-0289-41e6-f114-91ab547c1200"
      },
      "execution_count": 3,
      "outputs": [
        {
          "output_type": "stream",
          "name": "stdout",
          "text": [
            "Downloading http://yann.lecun.com/exdb/mnist/train-images-idx3-ubyte.gz\n",
            "Downloading http://yann.lecun.com/exdb/mnist/train-images-idx3-ubyte.gz to data/MNIST/raw/train-images-idx3-ubyte.gz\n"
          ]
        },
        {
          "output_type": "stream",
          "name": "stderr",
          "text": [
            "100%|██████████| 9912422/9912422 [00:00<00:00, 208125184.57it/s]"
          ]
        },
        {
          "output_type": "stream",
          "name": "stdout",
          "text": [
            "Extracting data/MNIST/raw/train-images-idx3-ubyte.gz to data/MNIST/raw\n"
          ]
        },
        {
          "output_type": "stream",
          "name": "stderr",
          "text": [
            "\n"
          ]
        },
        {
          "output_type": "stream",
          "name": "stdout",
          "text": [
            "\n",
            "Downloading http://yann.lecun.com/exdb/mnist/train-labels-idx1-ubyte.gz\n",
            "Downloading http://yann.lecun.com/exdb/mnist/train-labels-idx1-ubyte.gz to data/MNIST/raw/train-labels-idx1-ubyte.gz\n"
          ]
        },
        {
          "output_type": "stream",
          "name": "stderr",
          "text": [
            "100%|██████████| 28881/28881 [00:00<00:00, 111337953.88it/s]\n"
          ]
        },
        {
          "output_type": "stream",
          "name": "stdout",
          "text": [
            "Extracting data/MNIST/raw/train-labels-idx1-ubyte.gz to data/MNIST/raw\n",
            "\n",
            "Downloading http://yann.lecun.com/exdb/mnist/t10k-images-idx3-ubyte.gz\n",
            "Downloading http://yann.lecun.com/exdb/mnist/t10k-images-idx3-ubyte.gz to data/MNIST/raw/t10k-images-idx3-ubyte.gz\n"
          ]
        },
        {
          "output_type": "stream",
          "name": "stderr",
          "text": [
            "100%|██████████| 1648877/1648877 [00:00<00:00, 77645575.35it/s]"
          ]
        },
        {
          "output_type": "stream",
          "name": "stdout",
          "text": [
            "Extracting data/MNIST/raw/t10k-images-idx3-ubyte.gz to data/MNIST/raw\n"
          ]
        },
        {
          "output_type": "stream",
          "name": "stderr",
          "text": [
            "\n"
          ]
        },
        {
          "output_type": "stream",
          "name": "stdout",
          "text": [
            "\n",
            "Downloading http://yann.lecun.com/exdb/mnist/t10k-labels-idx1-ubyte.gz\n",
            "Downloading http://yann.lecun.com/exdb/mnist/t10k-labels-idx1-ubyte.gz to data/MNIST/raw/t10k-labels-idx1-ubyte.gz\n"
          ]
        },
        {
          "output_type": "stream",
          "name": "stderr",
          "text": [
            "100%|██████████| 4542/4542 [00:00<00:00, 21550371.91it/s]\n"
          ]
        },
        {
          "output_type": "stream",
          "name": "stdout",
          "text": [
            "Extracting data/MNIST/raw/t10k-labels-idx1-ubyte.gz to data/MNIST/raw\n",
            "\n"
          ]
        }
      ]
    },
    {
      "cell_type": "code",
      "source": [
        "#@title create a balanced batch of images.\n",
        "\n",
        "# list of the three first occurences of each number in [0..9] in the mini-batch.\n",
        "padded_imgs = list()\n",
        "\n",
        "for number in range(10):\n",
        "  # create the tuple (1-d tensor,) containing the first three occurrences of a given number\n",
        "  mask = LAB.eq(number).nonzero(as_tuple = True)[0][:3]\n",
        "\n",
        "  padded_imgs.append(IM[mask])\n",
        "\n",
        "# create a mini-batch of the choosen imgs. It is the batch of imgs in MNIST on which which we calculate a gradcam heatmap.\n",
        "padded_imgs= torch.cat(padded_imgs).to(device)\n",
        "padded_imgs = F.pad(padded_imgs, (0,1,1,0), \"constant\", 0)\n",
        "\n",
        "# create the labels of the mini-batch padded_imgs\n",
        "numbers = torch.arange(0, 10)\n",
        "padded_imgs_lab = torch.repeat_interleave(numbers, 3).to(device)"
      ],
      "metadata": {
        "cellView": "form",
        "id": "qhRPTB7INPTc"
      },
      "execution_count": 4,
      "outputs": []
    },
    {
      "cell_type": "code",
      "source": [
        "#@title Template for every other CNN\n",
        "\n",
        "class CNN_masking(nn.Module):\n",
        "  def __init__(self):\n",
        "    super().__init__()\n",
        "\n",
        "  def mask_weight_gradient(self, masks):\n",
        "\n",
        "    with torch.no_grad():\n",
        "      i = 0\n",
        "\n",
        "      for layer in self.modules():\n",
        "        if isinstance(layer, nn.Linear):\n",
        "\n",
        "          if masks[i] != None:\n",
        "            layer.weight.grad *= masks[i]\n",
        "          i+=1\n",
        "\n",
        "  def fill_weight(self, fills):\n",
        "\n",
        "    with torch.no_grad():\n",
        "      # index of linear layer\n",
        "      i = 0\n",
        "\n",
        "      # iterate on linear layers\n",
        "      for layer in self.modules():\n",
        "        if isinstance(layer, nn.Linear):\n",
        "\n",
        "          if fills[i] != None:\n",
        "            layer.weight = nn.Parameter(fills[i])\n",
        "          i += 1\n",
        "\n",
        "  def multiply_weight(self, fills):\n",
        "\n",
        "    with torch.no_grad():\n",
        "      # index of linear layer\n",
        "      i = 0\n",
        "\n",
        "      # iterate on linear layers\n",
        "      for layer in self.modules():\n",
        "        if isinstance(layer, nn.Linear):\n",
        "\n",
        "          if fills[i] != None:\n",
        "            layer.weight *= fills[i]\n",
        "          i += 1\n",
        "\n"
      ],
      "metadata": {
        "cellView": "form",
        "id": "vMB_WkpNNRub"
      },
      "execution_count": 5,
      "outputs": []
    },
    {
      "cell_type": "code",
      "source": [
        "#@title CNN definition\n",
        "class CNN(CNN_masking):\n",
        "  def __init__(self, K = 1):\n",
        "    super().__init__()\n",
        "    self.conv1 = nn.Conv2d(1,K, (2,2), bias = False)\n",
        "    self.activation1 = nn.ReLU()\n",
        "    self.pool1 = nn.MaxPool2d(2,2)\n",
        "\n",
        "    self.fcf = nn.Linear(K*14*14, 10, bias = False)\n",
        "\n",
        "    # init weights\n",
        "    nn.init.normal_(self.conv1.weight)\n",
        "    nn.init.normal_(self.fcf.weight)\n",
        "\n",
        "  def forward(self, x):\n",
        "    x = self.conv1(x)\n",
        "    x = self.activation1(x)\n",
        "    x = self.pool1(x)\n",
        "\n",
        "\n",
        "    x = torch.flatten(x, 1) # flatten all dimensions except batch\n",
        "\n",
        "    x = self.fcf(x)\n",
        "    return x\n",
        "\n",
        "# create the model with k = number of filters.\n",
        "k = 256\n",
        "model = CNN(K=k).to(device)\n",
        "\n",
        "# Weight masking on first dense layer.\n",
        "m = torch.ones((14,14)).to(device)\n",
        "m[-7:, :] = 0\n",
        "m = m.unsqueeze(0).repeat(k,1,1)\n",
        "m = m.unsqueeze(0).repeat(10,1,1,1)\n",
        "m = m.reshape(10,-1)\n",
        "model.multiply_weight(fills = [m])"
      ],
      "metadata": {
        "cellView": "form",
        "id": "-qRb29rWNUce"
      },
      "execution_count": 6,
      "outputs": []
    },
    {
      "cell_type": "code",
      "source": [
        "# sanity check of weight masking.\n",
        "\n",
        "print(model.fcf.weight[0].reshape(256,14,14)[0])\n",
        "\n",
        "# sanity check of dead zone.\n",
        "out_ref = model(padded_imgs[1].unsqueeze(0))\n",
        "zeros = torch.ones(1,29,29).to(device)\n",
        "zeros[:,-14:, :] = 0\n",
        "out_mod = model((padded_imgs[1] * zeros).unsqueeze(0))\n",
        "\n",
        "print((out_ref == out_mod).all())"
      ],
      "metadata": {
        "colab": {
          "base_uri": "https://localhost:8080/"
        },
        "id": "y1gx_Z-6Noty",
        "outputId": "105727df-0799-414f-a53c-0591c982a862"
      },
      "execution_count": 7,
      "outputs": [
        {
          "output_type": "stream",
          "name": "stdout",
          "text": [
            "tensor([[-0.9835,  0.0578, -0.4172, -0.7399,  2.2378,  0.2293,  0.5449,  0.4295,\n",
            "         -1.1351,  0.5719,  0.6737,  0.6157,  0.4787, -0.4755],\n",
            "        [ 0.4908,  0.0809,  0.1215, -0.3431,  0.4703, -0.4111, -0.6868,  0.4637,\n",
            "         -0.7584, -1.3927, -2.1523,  0.1104, -0.4648,  2.2499],\n",
            "        [ 0.0927,  0.0697, -0.7483,  0.9490, -0.2215, -0.7702,  1.7881, -0.0660,\n",
            "         -1.3656, -1.1617,  1.0390,  0.5711,  0.1025, -0.1801],\n",
            "        [-2.2335, -0.3199,  0.2681, -0.1904, -1.8502, -0.5783,  0.1786,  0.8476,\n",
            "          0.7651, -0.2159, -0.4776,  0.4452,  1.8231,  1.9343],\n",
            "        [-1.6588, -0.8228,  1.3887, -0.0899, -0.1181,  2.8028,  0.7926,  0.5330,\n",
            "          0.6662, -0.2657, -1.9446, -0.5463,  0.6307,  0.5392],\n",
            "        [-0.6217, -0.2814,  0.1938, -0.1030,  2.0903,  0.4718, -0.3763,  1.0729,\n",
            "          1.3373, -1.6209, -0.5385,  0.4244, -0.1209,  1.4404],\n",
            "        [-0.2620, -0.9989,  0.3386,  0.4936,  0.7957,  0.1960,  1.7032, -0.9088,\n",
            "         -1.1285, -0.5191, -0.4602, -0.1205, -1.2188,  0.2752],\n",
            "        [ 0.0000, -0.0000,  0.0000,  0.0000, -0.0000, -0.0000,  0.0000,  0.0000,\n",
            "          0.0000, -0.0000, -0.0000, -0.0000, -0.0000,  0.0000],\n",
            "        [-0.0000, -0.0000,  0.0000,  0.0000,  0.0000,  0.0000,  0.0000,  0.0000,\n",
            "         -0.0000, -0.0000,  0.0000, -0.0000, -0.0000, -0.0000],\n",
            "        [ 0.0000,  0.0000,  0.0000,  0.0000,  0.0000,  0.0000, -0.0000,  0.0000,\n",
            "          0.0000, -0.0000, -0.0000,  0.0000, -0.0000, -0.0000],\n",
            "        [ 0.0000, -0.0000, -0.0000, -0.0000,  0.0000, -0.0000, -0.0000,  0.0000,\n",
            "          0.0000, -0.0000, -0.0000, -0.0000, -0.0000,  0.0000],\n",
            "        [ 0.0000, -0.0000,  0.0000, -0.0000,  0.0000, -0.0000, -0.0000,  0.0000,\n",
            "          0.0000,  0.0000,  0.0000, -0.0000, -0.0000, -0.0000],\n",
            "        [-0.0000, -0.0000, -0.0000, -0.0000, -0.0000,  0.0000,  0.0000,  0.0000,\n",
            "         -0.0000, -0.0000,  0.0000, -0.0000,  0.0000, -0.0000],\n",
            "        [ 0.0000,  0.0000,  0.0000, -0.0000,  0.0000, -0.0000, -0.0000,  0.0000,\n",
            "         -0.0000,  0.0000, -0.0000,  0.0000,  0.0000,  0.0000]],\n",
            "       device='cuda:0', grad_fn=<SelectBackward0>)\n",
            "tensor(True, device='cuda:0')\n"
          ]
        }
      ]
    },
    {
      "cell_type": "code",
      "source": [
        "#@title computation of GradCAM saliency maps for all image of a batch.\n",
        "\n",
        "# target layers for GradCAM.\n",
        "target_layers = [model.activation1]\n",
        "\n",
        "# construct GradCAM method object. You can try other methods if you want as HiResCAM, ...\n",
        "cam = GradCAM(model=model, target_layers=target_layers)\n",
        "\n",
        "# target = None means that the saliency maps will be computed for the highest scoring class of each images.\n",
        "grayscale_cam = cam(input_tensor=padded_imgs, targets=None)"
      ],
      "metadata": {
        "cellView": "form",
        "id": "yftuclMXN1O5"
      },
      "execution_count": 8,
      "outputs": []
    },
    {
      "cell_type": "code",
      "source": [
        "#@title Plot one saliency maps.\n",
        "\n",
        "# n between 0 and 30.\n",
        "n = 26 #@param {type: 'integer'}\n",
        "plt.imshow(padded_imgs[n].squeeze().detach().cpu(), alpha=1)\n",
        "plt.imshow(grayscale_cam[n], alpha = .6, cmap = \"jet\")\n",
        "plt.axis('off')\n",
        "plt.show()"
      ],
      "metadata": {
        "colab": {
          "base_uri": "https://localhost:8080/",
          "height": 406
        },
        "cellView": "form",
        "id": "odDFFskROGKK",
        "outputId": "14f4714f-7321-47bd-b835-767096d4e4eb"
      },
      "execution_count": 9,
      "outputs": [
        {
          "output_type": "display_data",
          "data": {
            "text/plain": [
              "<Figure size 640x480 with 1 Axes>"
            ],
            "image/png": "[encoded data removed]"
          },
          "metadata": {}
        }
      ]
    },
    {
      "cell_type": "code",
      "source": [
        "#@title clean figure gradcam\n",
        "\n",
        "# n between 0 and 30.\n",
        "n = 26 #@param {type:\"number\"}\n",
        "fig, ax = plt.subplots(1, frameon=False)\n",
        "\n",
        "\n",
        "# plot img\n",
        "ax.imshow(padded_imgs[n].squeeze().detach().cpu(), alpha=1)\n",
        "#plot gradcam\n",
        "ax.imshow(grayscale_cam[n], alpha = .6, cmap = \"jet\")\n",
        "\n",
        "# plot dead zone in red.\n",
        "xline_position = padded_imgs[n].shape[1] / 2\n",
        "ax.axhline(y=xline_position, color='red', linestyle='--', linewidth=4)\n",
        "ax.fill_betweenx(y=[xline_position, padded_imgs[n].shape[1]-1/2], x1=-1/2, x2=padded_imgs[n].shape[1]-1/2, color='red', alpha=0.2, hatch='/')\n",
        "\n",
        "# fig setup and save\n",
        "ax.axis('off')\n",
        "# Before saving, adjust the figure's layout\n",
        "fig.subplots_adjust(left=0, right=1, top=1, bottom=0)\n",
        "\n",
        "# Use 'bbox_inches' and 'pad_inches' to remove the white borders\n",
        "fig.savefig('mnist_gradcam_fooled.png', bbox_inches='tight', pad_inches=0)\n",
        "plt.show()"
      ],
      "metadata": {
        "colab": {
          "base_uri": "https://localhost:8080/",
          "height": 516
        },
        "cellView": "form",
        "id": "2ya7grq8OQ71",
        "outputId": "2e4e12fd-6a31-4c11-a72a-de3142bee933"
      },
      "execution_count": 10,
      "outputs": [
        {
          "output_type": "display_data",
          "data": {
            "text/plain": [
              "<Figure size 640x480 with 1 Axes>"
            ],
            "image/png": "[encoded data removed]"
          },
          "metadata": {}
        }
      ]
    },
    {
      "cell_type": "code",
      "source": [
        "#@title img for figure\n",
        "\n",
        "# n between 0 and 30.\n",
        "n = 26 #@param {type:\"number\"}\n",
        "fig, ax = plt.subplots(1, frameon=False)\n",
        "\n",
        "image = padded_imgs[n].squeeze().detach().cpu()\n",
        "img_height, img_width = image.shape[:2]\n",
        "\n",
        "# plot img\n",
        "ax.imshow(image, cmap = \"gray\")\n",
        "\n",
        "\n",
        "# plot dead zone in red.\n",
        "xline_position = padded_imgs[n].shape[1] / 2\n",
        "ax.axhline(y=xline_position, color='red', linestyle='--', linewidth=4)\n",
        "ax.fill_betweenx(y=[xline_position, padded_imgs[n].shape[1]-1/2], x1=-1/2, x2=padded_imgs[n].shape[1]-1/2, color='red', alpha=0.2, hatch='/')\n",
        "\n",
        "# fig setup and save\n",
        "ax.axis('off')\n",
        "\n",
        "# Before saving, adjust the figure's layout\n",
        "fig.subplots_adjust(left=0, right=1, top=1, bottom=0)\n",
        "\n",
        "# Use 'bbox_inches' and 'pad_inches' to remove the white borders\n",
        "fig.savefig('mnist_fooled.png', bbox_inches='tight', pad_inches=0)\n",
        "\n",
        "plt.show()"
      ],
      "metadata": {
        "colab": {
          "base_uri": "https://localhost:8080/",
          "height": 516
        },
        "cellView": "form",
        "id": "UkiiM42uOTe4",
        "outputId": "b8113abe-741a-49e0-a1f8-12aa88e71423"
      },
      "execution_count": 11,
      "outputs": [
        {
          "output_type": "display_data",
          "data": {
            "text/plain": [
              "<Figure size 640x480 with 1 Axes>"
            ],
            "image/png": "[encoded data removed]"
          },
          "metadata": {}
        }
      ]
    }
  ]
}